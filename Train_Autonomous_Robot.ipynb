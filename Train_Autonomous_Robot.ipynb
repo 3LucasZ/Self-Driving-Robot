{
  "nbformat": 4,
  "nbformat_minor": 0,
  "metadata": {
    "colab": {
      "name": "Self-Driving-Tank-Model",
      "provenance": [],
      "mount_file_id": "1LHhLlg9XRMnci-yJy8-bEwye-nAMRk1w",
      "authorship_tag": "ABX9TyOFf1I11oXf0uKpRn7oyBv1",
      "include_colab_link": true
    },
    "kernelspec": {
      "name": "python3",
      "display_name": "Python 3"
    },
    "language_info": {
      "name": "python"
    }
  },
  "cells": [
    {
      "cell_type": "markdown",
      "metadata": {
        "id": "view-in-github",
        "colab_type": "text"
      },
      "source": [
        "<a href=\"https://colab.research.google.com/github/3LucasZ/Self-Driving-Robot/blob/main/Train_Autonomous_Robot.ipynb\" target=\"_parent\"><img src=\"https://colab.research.google.com/assets/colab-badge.svg\" alt=\"Open In Colab\"/></a>"
      ]
    },
    {
      "cell_type": "markdown",
      "metadata": {
        "id": "xSMLULFSRC2N"
      },
      "source": [
        "SETUP"
      ]
    },
    {
      "cell_type": "code",
      "metadata": {
        "id": "yli_9hQz5Z-L"
      },
      "source": [
        "#IMPORTS\n",
        "#use newest tensorflow version\n",
        "%tensorflow_version 2.x\n",
        "#machine learning libraries\n",
        "import tensorflow as tf\n",
        "import numpy as np\n",
        "import matplotlib.pyplot as plt\n",
        "import matplotlib.image as mpimg\n",
        "#system manipulation\n",
        "import os\n",
        "import pathlib\n",
        "#testing\n",
        "import random"
      ],
      "execution_count": 3,
      "outputs": []
    },
    {
      "cell_type": "code",
      "metadata": {
        "id": "5a6k5EF2uq14"
      },
      "source": [
        "#saved datasets path\n",
        "gdriveDatasetsPath = \"/content/drive/MyDrive/Colab/datasets\"\n",
        "tubName = \"tub1\""
      ],
      "execution_count": 19,
      "outputs": []
    },
    {
      "cell_type": "code",
      "metadata": {
        "colab": {
          "base_uri": "https://localhost:8080/"
        },
        "id": "dwraH_cPCfGp",
        "outputId": "faf6d451-4134-4dbf-c895-d6b6fe2c1d5a"
      },
      "source": [
        "#unzip data from google drive and save unzipped tub locally\n",
        "unzipCmd = \"unzip \" + os.path.join(gdriveDatasetsPath, tubName) + \".zip -d /content/tubs\"\n",
        "os.system(unzipCmd)"
      ],
      "execution_count": 20,
      "outputs": [
        {
          "output_type": "execute_result",
          "data": {
            "text/plain": [
              "0"
            ]
          },
          "metadata": {
            "tags": []
          },
          "execution_count": 20
        }
      ]
    },
    {
      "cell_type": "code",
      "metadata": {
        "colab": {
          "base_uri": "https://localhost:8080/"
        },
        "id": "YOao7DoZE226",
        "outputId": "cffa133c-6d46-433c-e5cf-7a9866ff0c8e"
      },
      "source": [
        "#local pathnames\n",
        "imagesPath = os.path.join(\"/content/tubs\", tubName, \"Images\")\n",
        "labelsPath = os.path.join(\"/content/tubs\", tubName, \"bias.txt\")\n",
        "print(imagesPath)\n",
        "print(labelsPath)"
      ],
      "execution_count": 21,
      "outputs": [
        {
          "output_type": "stream",
          "text": [
            "/content/tubs/tub1/Images\n",
            "/content/tubs/tub1/bias.txt\n"
          ],
          "name": "stdout"
        }
      ]
    },
    {
      "cell_type": "code",
      "metadata": {
        "id": "EcxuGkmYp0TI"
      },
      "source": [
        "#extract data\n",
        "imagesArr = np.float32(np.array([np.array(mpimg.imread(os.path.join(imagesPath, imagePath)))/255.0 for imagePath in os.listdir(imagesPath)]))\n",
        "labelsFile = open(labelsPath, \"r\")\n",
        "labelsArr = np.array([int(value) for value in labelsFile.read().splitlines()])\n",
        "labelsArr.reshape(labelsArr.size)\n",
        "labelsFile.close()"
      ],
      "execution_count": 22,
      "outputs": []
    },
    {
      "cell_type": "code",
      "metadata": {
        "colab": {
          "base_uri": "https://localhost:8080/",
          "height": 707
        },
        "id": "GZ4VsBrkELne",
        "outputId": "76c34cb5-5bbe-4bee-bbd0-b4d061502ed8"
      },
      "source": [
        "#check data\n",
        "print(\"images array shape:\", imagesArr.shape)\n",
        "print(\"labels array shape:\", labelsArr.shape)\n",
        "\n",
        "randomImage = imagesArr[30, :, :, :]\n",
        "print(\"image data:\")\n",
        "print(randomImage[1:5, 1:5, 0])\n",
        "\n",
        "print(\"label data:\")\n",
        "print(labelsArr)\n",
        "\n",
        "print(\"graphs\")\n",
        "plt.figure()\n",
        "plt.imshow(randomImage)\n",
        "plt.figure()\n",
        "plt.plot(labelsArr)"
      ],
      "execution_count": 25,
      "outputs": [
        {
          "output_type": "stream",
          "text": [
            "images array shape: (6542, 64, 64, 3)\n",
            "labels array shape: (6542,)\n",
            "image data:\n",
            "[[0.3882353  0.38431373 0.38039216 0.37254903]\n",
            " [0.3764706  0.3764706  0.36862746 0.3647059 ]\n",
            " [0.36078432 0.36078432 0.36078432 0.3529412 ]\n",
            " [0.33333334 0.33333334 0.3372549  0.3372549 ]]\n",
            "label data:\n",
            "[0 0 0 ... 0 0 0]\n",
            "graphs\n"
          ],
          "name": "stdout"
        },
        {
          "output_type": "execute_result",
          "data": {
            "text/plain": [
              "[<matplotlib.lines.Line2D at 0x7f16bb591e50>]"
            ]
          },
          "metadata": {
            "tags": []
          },
          "execution_count": 25
        },
        {
          "output_type": "display_data",
          "data": {
            "image/png": "[encoded data removed]",
            "text/plain": [
              "<Figure size 432x288 with 1 Axes>"
            ]
          },
          "metadata": {
            "tags": [],
            "needs_background": "light"
          }
        },
        {
          "output_type": "display_data",
          "data": {
            "image/png": "[encoded data removed]",
            "text/plain": [
              "<Figure size 432x288 with 1 Axes>"
            ]
          },
          "metadata": {
            "tags": [],
            "needs_background": "light"
          }
        }
      ]
    },
    {
      "cell_type": "code",
      "metadata": {
        "id": "3hp3v0uyF8vf"
      },
      "source": [
        "#SPLIT DATA INTO 3 SETS\n",
        "#randomize images and labels with same seed\n",
        "idx = np.random.permutation(len(imagesArr))\n",
        "imagesArr, labelsArr = imagesArr[idx, :, :, :], labelsArr[idx]\n",
        "\n",
        "trainIndex = int(0.8 * len(labelsArr))\n",
        "valIndex = int(0.9 * len(labelsArr))\n",
        "\n",
        "#split the images and labels\n",
        "trainImages, validateImages, testImages = imagesArr[0:trainIndex, :, :, :], imagesArr[trainIndex:valIndex, :, :, :], imagesArr[valIndex:, :, :, :]\n",
        "trainLabels, validateLabels, testLabels = labelsArr[0:trainIndex], labelsArr[trainIndex:valIndex], labelsArr[valIndex:]"
      ],
      "execution_count": 26,
      "outputs": []
    },
    {
      "cell_type": "markdown",
      "metadata": {
        "id": "ecwfyzgiRJcc"
      },
      "source": [
        "CREATE AND TRAIN MODEL"
      ]
    },
    {
      "cell_type": "code",
      "metadata": {
        "colab": {
          "base_uri": "https://localhost:8080/"
        },
        "id": "GPyANKLZRyeE",
        "outputId": "4b673c0f-5335-48ab-fd17-7b0568b6d1a6"
      },
      "source": [
        "#MACHINE LEARNING MODEL\n",
        "model = tf.keras.models.Sequential([\n",
        "    #single convolutional layer\n",
        "    tf.keras.layers.Conv2D(filters=10, kernel_size=(5,5), activation='relu', input_shape=(64, 64, 3)),\n",
        "    tf.keras.layers.MaxPooling2D((2,2)),\n",
        "    # Flatten to feed into a DNN\n",
        "    tf.keras.layers.Flatten(),\n",
        "    tf.keras.layers.Dense(60, activation='relu'),\n",
        "    tf.keras.layers.Dense(60, activation='relu'),\n",
        "    #output dense layer\n",
        "    tf.keras.layers.Dense(1)\n",
        "    #tf.keras.layers.Lambda(tf.keras.activations.relu(x, alpha=1, max_value=20, threshold=-20), output_shape=(1))\n",
        "])\n",
        "\n",
        "model.summary()"
      ],
      "execution_count": 17,
      "outputs": [
        {
          "output_type": "stream",
          "text": [
            "Model: \"sequential_3\"\n",
            "_________________________________________________________________\n",
            "Layer (type)                 Output Shape              Param #   \n",
            "=================================================================\n",
            "conv2d_6 (Conv2D)            (None, 60, 60, 10)        760       \n",
            "_________________________________________________________________\n",
            "max_pooling2d_3 (MaxPooling2 (None, 30, 30, 10)        0         \n",
            "_________________________________________________________________\n",
            "flatten_3 (Flatten)          (None, 9000)              0         \n",
            "_________________________________________________________________\n",
            "dense_9 (Dense)              (None, 60)                540060    \n",
            "_________________________________________________________________\n",
            "dense_10 (Dense)             (None, 60)                3660      \n",
            "_________________________________________________________________\n",
            "dense_11 (Dense)             (None, 1)                 61        \n",
            "=================================================================\n",
            "Total params: 544,541\n",
            "Trainable params: 544,541\n",
            "Non-trainable params: 0\n",
            "_________________________________________________________________\n"
          ],
          "name": "stdout"
        }
      ]
    },
    {
      "cell_type": "code",
      "metadata": {
        "colab": {
          "base_uri": "https://localhost:8080/"
        },
        "id": "G3d2H0z6UaGq",
        "outputId": "886658f4-b457-467a-f46e-5f1972e9f79c"
      },
      "source": [
        "model.compile(\n",
        "    loss = \"mse\",\n",
        "    optimizer = tf.keras.optimizers.RMSprop(lr=0.0001)\n",
        ")"
      ],
      "execution_count": 19,
      "outputs": [
        {
          "output_type": "stream",
          "text": [
            "/usr/local/lib/python3.7/dist-packages/tensorflow/python/keras/optimizer_v2/optimizer_v2.py:375: UserWarning: The `lr` argument is deprecated, use `learning_rate` instead.\n",
            "  \"The `lr` argument is deprecated, use `learning_rate` instead.\")\n"
          ],
          "name": "stderr"
        }
      ]
    },
    {
      "cell_type": "code",
      "metadata": {
        "colab": {
          "base_uri": "https://localhost:8080/"
        },
        "id": "8BbHwOYyVIh7",
        "outputId": "c09bb643-d4de-4967-b76c-a3fba731bb49"
      },
      "source": [
        "history = model.fit(\n",
        "      x=trainImages,\n",
        "      y=trainLabels,\n",
        "      validation_data=(validateImages, validateLabels),\n",
        "      epochs = 10,\n",
        "      verbose = 1\n",
        "      )"
      ],
      "execution_count": 20,
      "outputs": [
        {
          "output_type": "stream",
          "text": [
            "Epoch 1/10\n",
            "164/164 [==============================] - 14s 80ms/step - loss: 38.1697 - val_loss: 39.3680\n",
            "Epoch 2/10\n",
            "164/164 [==============================] - 13s 80ms/step - loss: 37.5341 - val_loss: 37.8988\n",
            "Epoch 3/10\n",
            "164/164 [==============================] - 13s 79ms/step - loss: 37.3371 - val_loss: 37.3311\n",
            "Epoch 4/10\n",
            "164/164 [==============================] - 13s 80ms/step - loss: 37.2307 - val_loss: 37.2832\n",
            "Epoch 5/10\n",
            "164/164 [==============================] - 13s 79ms/step - loss: 37.1758 - val_loss: 37.0693\n",
            "Epoch 6/10\n",
            "164/164 [==============================] - 13s 79ms/step - loss: 37.1408 - val_loss: 37.0224\n",
            "Epoch 7/10\n",
            "164/164 [==============================] - 13s 79ms/step - loss: 37.0175 - val_loss: 36.9786\n",
            "Epoch 8/10\n",
            "164/164 [==============================] - 13s 79ms/step - loss: 36.9406 - val_loss: 37.4830\n",
            "Epoch 9/10\n",
            "164/164 [==============================] - 13s 80ms/step - loss: 37.0308 - val_loss: 37.0524\n",
            "Epoch 10/10\n",
            "164/164 [==============================] - 13s 79ms/step - loss: 36.9383 - val_loss: 37.8580\n"
          ],
          "name": "stdout"
        }
      ]
    },
    {
      "cell_type": "markdown",
      "metadata": {
        "id": "xcVxMg4oQJFb"
      },
      "source": [
        "PREDICTION ON RANDOM TEST IMAGE\n"
      ]
    },
    {
      "cell_type": "code",
      "metadata": {
        "colab": {
          "base_uri": "https://localhost:8080/"
        },
        "id": "AyVSSBRkOKid",
        "outputId": "f28be2f5-ad8a-4a3e-ff1f-300217b5e1b1"
      },
      "source": [
        "randomNumber = random.randrange(0, len(testLabels))\n",
        "randomImage = imagesArr[randomNumber, :, :, :].reshape(1, 64, 64, 3)\n",
        "randomLabel = labelsArr[randomNumber]\n",
        "print(\"real: \")\n",
        "print(randomLabel)\n",
        "print(\"predicted: \")\n",
        "model.predict(randomImage)"
      ],
      "execution_count": 78,
      "outputs": [
        {
          "output_type": "stream",
          "text": [
            "(1, 64, 64, 3)\n",
            "-4\n"
          ],
          "name": "stdout"
        },
        {
          "output_type": "execute_result",
          "data": {
            "text/plain": [
              "array([[-6.674623]], dtype=float32)"
            ]
          },
          "metadata": {
            "tags": []
          },
          "execution_count": 78
        }
      ]
    },
    {
      "cell_type": "markdown",
      "metadata": {
        "id": "u6QNvXOGASJU"
      },
      "source": [
        "VISUALIZE CONVOLUTIONS"
      ]
    },
    {
      "cell_type": "code",
      "metadata": {
        "colab": {
          "base_uri": "https://localhost:8080/",
          "height": 323
        },
        "id": "DI4EQnBCfyyR",
        "outputId": "bbe3eeb8-2fdb-4f23-ba98-7cbc8abb7507"
      },
      "source": [
        "#extract the outputs of all the layers\n",
        "layer_outputs = [layer.output for layer in model.layers]\n",
        "print([layer_output.shape for layer_output in layer_outputs])\n",
        "\n",
        "#model that will return all the outputs, given the model input\n",
        "visualization_model = tf.keras.models.Model(inputs = model.input, outputs = layer_outputs)\n",
        "print(model.input.shape)\n",
        "\n",
        "#Plot the image about to be used\n",
        "plt.figure()\n",
        "plt.imshow(randomImage.reshape(64, 64, 3))\n",
        "plt.show() "
      ],
      "execution_count": 79,
      "outputs": [
        {
          "output_type": "stream",
          "text": [
            "[TensorShape([None, 60, 60, 10]), TensorShape([None, 30, 30, 10]), TensorShape([None, 9000]), TensorShape([None, 60]), TensorShape([None, 60]), TensorShape([None, 1])]\n",
            "(None, 64, 64, 3)\n"
          ],
          "name": "stdout"
        },
        {
          "output_type": "display_data",
          "data": {
            "image/png": "[encoded data removed]",
            "text/plain": [
              "<Figure size 432x288 with 1 Axes>"
            ]
          },
          "metadata": {
            "tags": [],
            "needs_background": "light"
          }
        }
      ]
    },
    {
      "cell_type": "code",
      "metadata": {
        "colab": {
          "base_uri": "https://localhost:8080/",
          "height": 1000
        },
        "id": "CAVR31cDgWbY",
        "outputId": "9f071bdc-0a25-4b2b-c41a-762d5b2d96ba"
      },
      "source": [
        "successive_feature_maps = visualization_model.predict(randomImage)\n",
        "\n",
        "#VISUALIZE ANY CONVOLUTION LAYER\n",
        "layer1 = successive_feature_maps[1]\n",
        "print(layer1.shape)\n",
        "for i in range(10):\n",
        "  plt.figure()\n",
        "  plt.imshow(layer1[0, : , :, i])\n",
        "  plt.show()"
      ],
      "execution_count": 81,
      "outputs": [
        {
          "output_type": "stream",
          "text": [
            "(1, 30, 30, 10)\n"
          ],
          "name": "stdout"
        },
        {
          "output_type": "display_data",
          "data": {
            "image/png": "[encoded data removed]",
            "text/plain": [
              "<Figure size 432x288 with 1 Axes>"
            ]
          },
          "metadata": {
            "tags": [],
            "needs_background": "light"
          }
        },
        {
          "output_type": "display_data",
          "data": {
            "image/png": "[encoded data removed]",
            "text/plain": [
              "<Figure size 432x288 with 1 Axes>"
            ]
          },
          "metadata": {
            "tags": [],
            "needs_background": "light"
          }
        },
        {
          "output_type": "display_data",
          "data": {
            "image/png": "[encoded data removed]",
            "text/plain": [
              "<Figure size 432x288 with 1 Axes>"
            ]
          },
          "metadata": {
            "tags": [],
            "needs_background": "light"
          }
        },
        {
          "output_type": "display_data",
          "data": {
            "image/png": "[encoded data removed]",
            "text/plain": [
              "<Figure size 432x288 with 1 Axes>"
            ]
          },
          "metadata": {
            "tags": [],
            "needs_background": "light"
          }
        },
        {
          "output_type": "display_data",
          "data": {
            "image/png": "[encoded data removed]",
            "text/plain": [
              "<Figure size 432x288 with 1 Axes>"
            ]
          },
          "metadata": {
            "tags": [],
            "needs_background": "light"
          }
        },
        {
          "output_type": "display_data",
          "data": {
            "image/png": "[encoded data removed]",
            "text/plain": [
              "<Figure size 432x288 with 1 Axes>"
            ]
          },
          "metadata": {
            "tags": [],
            "needs_background": "light"
          }
        },
        {
          "output_type": "display_data",
          "data": {
            "image/png": "[encoded data removed]",
            "text/plain": [
              "<Figure size 432x288 with 1 Axes>"
            ]
          },
          "metadata": {
            "tags": [],
            "needs_background": "light"
          }
        },
        {
          "output_type": "display_data",
          "data": {
            "image/png": "[encoded data removed]",
            "text/plain": [
              "<Figure size 432x288 with 1 Axes>"
            ]
          },
          "metadata": {
            "tags": [],
            "needs_background": "light"
          }
        },
        {
          "output_type": "display_data",
          "data": {
            "image/png": "[encoded data removed]",
            "text/plain": [
              "<Figure size 432x288 with 1 Axes>"
            ]
          },
          "metadata": {
            "tags": [],
            "needs_background": "light"
          }
        },
        {
          "output_type": "display_data",
          "data": {
            "image/png": "[encoded data removed]",
            "text/plain": [
              "<Figure size 432x288 with 1 Axes>"
            ]
          },
          "metadata": {
            "tags": [],
            "needs_background": "light"
          }
        }
      ]
    },
    {
      "cell_type": "markdown",
      "metadata": {
        "id": "vZtk6AXYduMM"
      },
      "source": [
        "MODEL SAVING"
      ]
    },
    {
      "cell_type": "code",
      "metadata": {
        "colab": {
          "base_uri": "https://localhost:8080/"
        },
        "id": "yOeMQyKiae2y",
        "outputId": "38accf49-3343-4016-a48d-719d520409e3"
      },
      "source": [
        "#save the model to google drive\n",
        "export_dir = os.path.join(\"/content/drive/MyDrive/Colab/saved_models\", tubName)\n",
        "tf.saved_model.save(model, export_dir)"
      ],
      "execution_count": 42,
      "outputs": [
        {
          "output_type": "stream",
          "text": [
            "WARNING:tensorflow:FOR KERAS USERS: The object that you are saving contains one or more Keras models or layers. If you are loading the SavedModel with `tf.keras.models.load_model`, continue reading (otherwise, you may ignore the following instructions). Please change your code to save with `tf.keras.models.save_model` or `model.save`, and confirm that the file \"keras.metadata\" exists in the export directory. In the future, Keras will only load the SavedModels that have this file. In other words, `tf.saved_model.save` will no longer write SavedModels that can be recovered as Keras models (this will apply in TF 2.5).\n",
            "\n",
            "FOR DEVS: If you are overwriting _tracking_metadata in your class, this property has been used to save metadata in the SavedModel. The metadta field will be deprecated soon, so please move the metadata to a different file.\n",
            "INFO:tensorflow:Assets written to: /content/drive/MyDrive/Colab/saved_models/tub1628124815/assets\n"
          ],
          "name": "stdout"
        }
      ]
    },
    {
      "cell_type": "markdown",
      "metadata": {
        "id": "fpl1UY17yBKJ"
      },
      "source": [
        "LOAD A MODEL"
      ]
    },
    {
      "cell_type": "code",
      "metadata": {
        "id": "MtSNdrMHx_qu"
      },
      "source": [
        "tubName = 'tub1'\n",
        "export_dir = os.path.join(\"/content/drive/MyDrive/Colab/saved_models\", tubName)"
      ],
      "execution_count": 29,
      "outputs": []
    },
    {
      "cell_type": "code",
      "metadata": {
        "id": "XLonTqmv7E0H"
      },
      "source": [
        "#instantiate converter\n",
        "converter = tf.lite.TFLiteConverter.from_saved_model(export_dir)\n",
        "#make converter use optimizations: quantization, default\n",
        "converter.optimizations = [tf.lite.Optimize.DEFAULT]\n",
        "#this data generator will represent the data used in the model\n",
        "def representative_data_gen():                          \n",
        "  for i in range(100):\n",
        "    yield [imagesArr[i,:,:,:].reshape(1, 64, 64, 3)]\n",
        "converter.representative_dataset = representative_data_gen\n",
        "converter.target_spec.supported_ops = [tf.lite.OpsSet.TFLITE_BUILTINS_INT8]"
      ],
      "execution_count": 30,
      "outputs": []
    },
    {
      "cell_type": "code",
      "metadata": {
        "id": "6jvwtrDGdzDS"
      },
      "source": [
        "#convert model to tflite model\n",
        "tflite_model = converter.convert()"
      ],
      "execution_count": 31,
      "outputs": []
    },
    {
      "cell_type": "code",
      "metadata": {
        "colab": {
          "base_uri": "https://localhost:8080/"
        },
        "id": "VTvW_8CxeBEc",
        "outputId": "3037fe44-d6f1-46ff-807d-b7d4fa348b55"
      },
      "source": [
        "#save the tflite model locally\n",
        "tflite_model_file = pathlib.Path('model1.tflite')\n",
        "tflite_model_file.write_bytes(tflite_model)\n",
        "#Note: \n",
        "#with no optimizations file size is 2MB\n",
        "#with DEFAULT optimization file size is 550KB\n",
        "#with DEFAULT and quantization optimization file size is 550KB"
      ],
      "execution_count": 32,
      "outputs": [
        {
          "output_type": "execute_result",
          "data": {
            "text/plain": [
              "548560"
            ]
          },
          "metadata": {
            "tags": []
          },
          "execution_count": 32
        }
      ]
    },
    {
      "cell_type": "markdown",
      "metadata": {
        "id": "vaZhJdJLagOs"
      },
      "source": [
        "TENSORFLOW LITE FOR ON EDGE ML"
      ]
    },
    {
      "cell_type": "code",
      "metadata": {
        "colab": {
          "base_uri": "https://localhost:8080/"
        },
        "id": "6SFysbIXeTYy",
        "outputId": "13a24a32-311d-48c3-d252-9fcf8f8da3e4"
      },
      "source": [
        "#load tflite model and allocate tensors\n",
        "interpreter = tf.lite.Interpreter(model_path=tflite_model_file)\n",
        "interpreter.allocate_tensors()\n",
        "\n",
        "#get input and output tensors\n",
        "input_details = interpreter.get_input_details()\n",
        "output_details = interpreter.get_output_details()\n",
        "print(input_details)\n",
        "print(output_details)"
      ],
      "execution_count": 87,
      "outputs": [
        {
          "output_type": "stream",
          "text": [
            "{'name': 'serving_default_conv2d_6_input:0', 'index': 0, 'shape': array([ 1, 64, 64,  3], dtype=int32), 'shape_signature': array([-1, 64, 64,  3], dtype=int32), 'dtype': <class 'numpy.float32'>, 'quantization': (0.0, 0), 'quantization_parameters': {'scales': array([], dtype=float32), 'zero_points': array([], dtype=int32), 'quantized_dimension': 0}, 'sparsity_parameters': {}}\n",
            "[{'name': 'StatefulPartitionedCall:0', 'index': 17, 'shape': array([1, 1], dtype=int32), 'shape_signature': array([-1,  1], dtype=int32), 'dtype': <class 'numpy.float32'>, 'quantization': (0.0, 0), 'quantization_parameters': {'scales': array([], dtype=float32), 'zero_points': array([], dtype=int32), 'quantized_dimension': 0}, 'sparsity_parameters': {}}]\n"
          ],
          "name": "stdout"
        }
      ]
    },
    {
      "cell_type": "code",
      "metadata": {
        "colab": {
          "base_uri": "https://localhost:8080/"
        },
        "id": "rjt05RgCfqA1",
        "outputId": "7397539a-0c3d-4922-beb4-9440846db871"
      },
      "source": [
        "#inference\n",
        "interpreter.set_tensor(input_details[0]['index'], randomImage)\n",
        "interpreter.invoke()\n",
        "tflite_results = interpreter.get_tensor(output_details[0]['index'])\n",
        "print(tflite_results)"
      ],
      "execution_count": 89,
      "outputs": [
        {
          "output_type": "stream",
          "text": [
            "(1, 64, 64, 3)\n",
            "[[-6.675915]]\n"
          ],
          "name": "stdout"
        }
      ]
    }
  ]
}